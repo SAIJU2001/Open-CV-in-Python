{
 "cells": [
  {
   "cell_type": "code",
   "execution_count": 15,
   "id": "5fd1a69f-fadf-45ff-8e76-c39bbcdd073b",
   "metadata": {},
   "outputs": [],
   "source": [
    "#import opencv library\n",
    "import cv2"
   ]
  },
  {
   "cell_type": "code",
   "execution_count": 16,
   "id": "40c24a80-cbff-4c71-989e-357e9f455977",
   "metadata": {},
   "outputs": [],
   "source": [
    "#import numpy\n",
    "import numpy as np"
   ]
  },
  {
   "cell_type": "code",
   "execution_count": 17,
   "id": "24c4147d-2100-4763-8dbf-a0ab2aefec3c",
   "metadata": {},
   "outputs": [],
   "source": [
    "#capture the video from the webcam\n",
    "cap = cv2.VideoCapture(0)"
   ]
  },
  {
   "cell_type": "code",
   "execution_count": 18,
   "id": "d5a67664-3e1f-48a7-976e-e33d5e4f4b77",
   "metadata": {},
   "outputs": [],
   "source": [
    "while True :\n",
    "    ret, frame = cap.read()\n",
    "\n",
    "    #hsv = hue, saturation, value(Brigthness)\n",
    "    hsv = cv2.cvtColor(frame, cv2.COLOR_BGR2HSV)\n",
    "\n",
    "    #display the hsv version video\n",
    "    cv2.imshow('Video',hsv)\n",
    "    if cv2.waitKey(1) == ord('q') :\n",
    "        break"
   ]
  },
  {
   "cell_type": "code",
   "execution_count": 19,
   "id": "52c532e5-3e7d-463e-a284-a961a4168979",
   "metadata": {},
   "outputs": [],
   "source": [
    "#release the webcam\n",
    "cap.release()"
   ]
  },
  {
   "cell_type": "code",
   "execution_count": 20,
   "id": "cb123c65-ef8c-4e7c-8984-68c3b846321e",
   "metadata": {},
   "outputs": [],
   "source": [
    "cv2.destroyAllWindows()"
   ]
  },
  {
   "cell_type": "code",
   "execution_count": null,
   "id": "38c32dc9-3604-4e0b-aed4-d86888380ec8",
   "metadata": {},
   "outputs": [],
   "source": []
  }
 ],
 "metadata": {
  "kernelspec": {
   "display_name": "Python 3 (ipykernel)",
   "language": "python",
   "name": "python3"
  },
  "language_info": {
   "codemirror_mode": {
    "name": "ipython",
    "version": 3
   },
   "file_extension": ".py",
   "mimetype": "text/x-python",
   "name": "python",
   "nbconvert_exporter": "python",
   "pygments_lexer": "ipython3",
   "version": "3.10.0"
  }
 },
 "nbformat": 4,
 "nbformat_minor": 5
}

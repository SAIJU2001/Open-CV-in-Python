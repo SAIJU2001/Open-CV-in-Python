{
 "cells": [
  {
   "cell_type": "code",
   "execution_count": 15,
   "id": "e4260b1e-eaa3-432b-9034-84f715c34f8e",
   "metadata": {},
   "outputs": [],
   "source": [
    "import cv2"
   ]
  },
  {
   "cell_type": "markdown",
   "id": "ed5c0777-9277-48c5-996b-a9befb0a3f8b",
   "metadata": {},
   "source": [
    "-- to load the image or read the image--"
   ]
  },
  {
   "cell_type": "code",
   "execution_count": 16,
   "id": "c0a37950-8314-4c01-92e8-1f5e93c13e0e",
   "metadata": {},
   "outputs": [],
   "source": [
    "img = cv2.imread('code.jpeg',-1)"
   ]
  },
  {
   "cell_type": "markdown",
   "id": "b12df512-db96-4816-aee6-6b82e61335e2",
   "metadata": {},
   "source": [
    "-- to rotate the image--"
   ]
  },
  {
   "cell_type": "code",
   "execution_count": 17,
   "id": "c0e30c68-bfab-48fd-b753-1a0c67ddece0",
   "metadata": {},
   "outputs": [],
   "source": [
    "img = cv2.rotate(img, cv2.ROTATE_180)"
   ]
  },
  {
   "cell_type": "markdown",
   "id": "e9e6fb12-b29c-415d-9157-d67c607fdff0",
   "metadata": {},
   "source": [
    "-- to display the image --"
   ]
  },
  {
   "cell_type": "code",
   "execution_count": 18,
   "id": "e1db4ff8-e2d9-4086-9c4d-d7e6beba4812",
   "metadata": {},
   "outputs": [],
   "source": [
    "cv2.imshow('Image',img)"
   ]
  },
  {
   "cell_type": "code",
   "execution_count": 19,
   "id": "5c070edb-e7ad-4b0a-9507-867fb971ace4",
   "metadata": {},
   "outputs": [
    {
     "data": {
      "text/plain": [
       "-1"
      ]
     },
     "execution_count": 19,
     "metadata": {},
     "output_type": "execute_result"
    }
   ],
   "source": [
    "cv2.waitKey(0)"
   ]
  },
  {
   "cell_type": "code",
   "execution_count": 20,
   "id": "a55daf89-e90b-4171-921b-523ef653bcb5",
   "metadata": {},
   "outputs": [],
   "source": [
    "cv2.destroyAllWindows()"
   ]
  },
  {
   "cell_type": "code",
   "execution_count": null,
   "id": "83e0363e-d80f-4e87-8b0c-b7d62be3eec4",
   "metadata": {},
   "outputs": [],
   "source": []
  }
 ],
 "metadata": {
  "kernelspec": {
   "display_name": "Python 3 (ipykernel)",
   "language": "python",
   "name": "python3"
  },
  "language_info": {
   "codemirror_mode": {
    "name": "ipython",
    "version": 3
   },
   "file_extension": ".py",
   "mimetype": "text/x-python",
   "name": "python",
   "nbconvert_exporter": "python",
   "pygments_lexer": "ipython3",
   "version": "3.10.0"
  }
 },
 "nbformat": 4,
 "nbformat_minor": 5
}

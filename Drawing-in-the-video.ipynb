{
 "cells": [
  {
   "cell_type": "code",
   "execution_count": 39,
   "id": "9dd3d4a7-9474-446f-ace9-8f60176853a0",
   "metadata": {},
   "outputs": [],
   "source": [
    "import numpy as np"
   ]
  },
  {
   "cell_type": "code",
   "execution_count": 40,
   "id": "8ac0e32d-6205-49da-bb63-6b263d9594a8",
   "metadata": {},
   "outputs": [],
   "source": [
    "import cv2"
   ]
  },
  {
   "cell_type": "markdown",
   "id": "d36ab427-69ec-4c07-8635-1ef141d16669",
   "metadata": {},
   "source": [
    "--to capture the video from webcam--"
   ]
  },
  {
   "cell_type": "code",
   "execution_count": 41,
   "id": "43dc79b1-63b9-4e58-a253-ff26ce19899a",
   "metadata": {},
   "outputs": [],
   "source": [
    "cap = cv2.VideoCapture(0)"
   ]
  },
  {
   "cell_type": "markdown",
   "id": "9cf499cc-f5f9-407a-abc7-32ab88bfcfe2",
   "metadata": {},
   "source": [
    "-while loop continiously run and keep displaying the video--"
   ]
  },
  {
   "cell_type": "code",
   "execution_count": 42,
   "id": "e4cfec76-dbc5-4bf5-96dc-0a8c0668fc1c",
   "metadata": {},
   "outputs": [],
   "source": [
    "while True :\n",
    "    ret, frame = cap.read()\n",
    "    \n",
    "    #getting the height and width value\n",
    "    #cap have 17 different properties 3 for the width and 4 for the height\n",
    "    width = int(cap.get(3))\n",
    "    height = int(cap.get(4))\n",
    "    \n",
    "    #Drawing the lines in the video\n",
    "    #this lines add the two corner basically\n",
    "    img = cv2.line(frame, (0, height), (width, 0), (255, 0 , 0), 10)\n",
    "\n",
    "    #Drawing the rectangle\n",
    "    img = cv2.rectangle(img, (100, 100), (200, 2000), (0, 0, 255), 10)\n",
    "\n",
    "    #Drawing the circle\n",
    "    img = cv2.circle(img, (300, 300), 60, (0, 255, 0), 10)\n",
    "\n",
    "    #Drawing the text\n",
    "    font = cv2.FONT_HERSHEY_SIMPLEX\n",
    "    img = cv2.putText(img, 'Saikat is Great!', (200, height-10), font, 1, (255, 255 , 255), 5, cv2.LINE_AA)\n",
    "\n",
    "    #display the video\n",
    "    cv2.imshow('Frame',img)\n",
    "    if cv2.waitKey(1) == ord('q') :\n",
    "        break    "
   ]
  },
  {
   "cell_type": "markdown",
   "id": "8123e582-9653-4c84-8f20-9e9a9a98795d",
   "metadata": {},
   "source": [
    "--release the camera now the camera able to do another work--"
   ]
  },
  {
   "cell_type": "code",
   "execution_count": 43,
   "id": "8ddf0868-9eff-44a2-acec-2eb5bed5633a",
   "metadata": {},
   "outputs": [],
   "source": [
    "cap.release()"
   ]
  },
  {
   "cell_type": "code",
   "execution_count": 44,
   "id": "a3b37aca-0564-4b1f-b566-880fab634792",
   "metadata": {},
   "outputs": [],
   "source": [
    "cv2.destroyAllWindows()"
   ]
  },
  {
   "cell_type": "code",
   "execution_count": null,
   "id": "2dfce537-af04-4ef7-9fd2-1a29970fd441",
   "metadata": {},
   "outputs": [],
   "source": []
  },
  {
   "cell_type": "code",
   "execution_count": null,
   "id": "11f286ff-5c7d-4680-bf11-45e4281edc6e",
   "metadata": {},
   "outputs": [],
   "source": []
  }
 ],
 "metadata": {
  "kernelspec": {
   "display_name": "Python 3 (ipykernel)",
   "language": "python",
   "name": "python3"
  },
  "language_info": {
   "codemirror_mode": {
    "name": "ipython",
    "version": 3
   },
   "file_extension": ".py",
   "mimetype": "text/x-python",
   "name": "python",
   "nbconvert_exporter": "python",
   "pygments_lexer": "ipython3",
   "version": "3.10.0"
  }
 },
 "nbformat": 4,
 "nbformat_minor": 5
}

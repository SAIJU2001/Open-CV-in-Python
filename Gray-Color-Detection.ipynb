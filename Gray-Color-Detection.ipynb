{
 "cells": [
  {
   "cell_type": "code",
   "execution_count": 1,
   "id": "ca7afaf5-2430-48f9-b004-a6ccbd237b45",
   "metadata": {},
   "outputs": [],
   "source": [
    "#import opemcv library\n",
    "import cv2"
   ]
  },
  {
   "cell_type": "code",
   "execution_count": 2,
   "id": "b23be3ab-b361-463d-a839-c8e317f5cf90",
   "metadata": {},
   "outputs": [],
   "source": [
    "#import numpy\n",
    "import numpy as np"
   ]
  },
  {
   "cell_type": "code",
   "execution_count": 3,
   "id": "d7bf16ef-2dcc-47f3-a7f0-ce340da934f6",
   "metadata": {},
   "outputs": [],
   "source": [
    "#capture the video from the webcam\n",
    "cap = cv2.VideoCapture(0)"
   ]
  },
  {
   "cell_type": "code",
   "execution_count": 5,
   "id": "5fb5025c-47a3-460d-9846-601e78591af5",
   "metadata": {},
   "outputs": [],
   "source": [
    "while True :\n",
    "    ret, frame = cap.read()\n",
    "\n",
    "    #hsv = hue, saturation, value(Brigthness)\n",
    "    grey = cv2.cvtColor(frame, cv2.COLOR_BGR2GRAY)\n",
    "\n",
    "    #display the hsv version video\n",
    "    cv2.imshow('Video',grey)\n",
    "    if cv2.waitKey(1) == ord('q') :\n",
    "        break"
   ]
  },
  {
   "cell_type": "code",
   "execution_count": 6,
   "id": "aa2d10de-d0df-45c9-b296-9c5533286e35",
   "metadata": {},
   "outputs": [],
   "source": [
    "#release the webcam\n",
    "cap.release()"
   ]
  },
  {
   "cell_type": "code",
   "execution_count": 7,
   "id": "5f6daf15-a53f-420d-9408-5a786d033be7",
   "metadata": {},
   "outputs": [],
   "source": [
    "cv2.destroyAllWindows()"
   ]
  },
  {
   "cell_type": "code",
   "execution_count": null,
   "id": "82c05a4a-8dac-4e0f-be73-1968d049bcd8",
   "metadata": {},
   "outputs": [],
   "source": []
  }
 ],
 "metadata": {
  "kernelspec": {
   "display_name": "Python 3 (ipykernel)",
   "language": "python",
   "name": "python3"
  },
  "language_info": {
   "codemirror_mode": {
    "name": "ipython",
    "version": 3
   },
   "file_extension": ".py",
   "mimetype": "text/x-python",
   "name": "python",
   "nbconvert_exporter": "python",
   "pygments_lexer": "ipython3",
   "version": "3.10.0"
  }
 },
 "nbformat": 4,
 "nbformat_minor": 5
}

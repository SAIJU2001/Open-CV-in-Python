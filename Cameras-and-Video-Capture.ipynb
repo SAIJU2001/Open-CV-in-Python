{
 "cells": [
  {
   "cell_type": "code",
   "execution_count": 14,
   "id": "86aea12d-50b3-4043-ad78-0ea74323efb8",
   "metadata": {},
   "outputs": [],
   "source": [
    "import numpy as np"
   ]
  },
  {
   "cell_type": "code",
   "execution_count": 15,
   "id": "0ea242bb-b505-4bbd-9d3f-7b6ca93d8ecc",
   "metadata": {},
   "outputs": [],
   "source": [
    "import cv2"
   ]
  },
  {
   "cell_type": "markdown",
   "id": "cf3df4ad-3f60-420d-9df0-d86dea8906d8",
   "metadata": {},
   "source": [
    "--to capture the video from webcam--"
   ]
  },
  {
   "cell_type": "code",
   "execution_count": 16,
   "id": "ce396274-bdb8-45c1-9249-7794491ddfe3",
   "metadata": {},
   "outputs": [],
   "source": [
    "cap = cv2.VideoCapture(0)"
   ]
  },
  {
   "cell_type": "markdown",
   "id": "bf4b1bbf-d519-4481-a589-701f3792a665",
   "metadata": {},
   "source": [
    "--while loop continiously run and keep displaying the video--"
   ]
  },
  {
   "cell_type": "code",
   "execution_count": 17,
   "id": "e01ae246-2728-4657-b095-4f7bcc6dceac",
   "metadata": {},
   "outputs": [],
   "source": [
    "while True :\n",
    "    ret, frame = cap.read()\n",
    "    cv2.imshow('Frame',frame)\n",
    "    if cv2.waitKey(1) == ord('q') :\n",
    "        break    "
   ]
  },
  {
   "cell_type": "markdown",
   "id": "dd053626-24a5-4c0a-b65e-d0bff8a4ee0b",
   "metadata": {},
   "source": [
    "--release the camera now the camera able to do another work-- "
   ]
  },
  {
   "cell_type": "code",
   "execution_count": 18,
   "id": "91d57ebc-1c06-4393-9aca-263bb7da211c",
   "metadata": {},
   "outputs": [],
   "source": [
    "cap.release()"
   ]
  },
  {
   "cell_type": "code",
   "execution_count": 19,
   "id": "bc6bfcf5-f753-43d0-bd56-f8619368f8a1",
   "metadata": {},
   "outputs": [],
   "source": [
    "cv2.destroyAllWindows()"
   ]
  },
  {
   "cell_type": "code",
   "execution_count": null,
   "id": "4cf07928-49bd-460d-ba5f-0e51248e75cd",
   "metadata": {},
   "outputs": [],
   "source": []
  }
 ],
 "metadata": {
  "kernelspec": {
   "display_name": "Python 3 (ipykernel)",
   "language": "python",
   "name": "python3"
  },
  "language_info": {
   "codemirror_mode": {
    "name": "ipython",
    "version": 3
   },
   "file_extension": ".py",
   "mimetype": "text/x-python",
   "name": "python",
   "nbconvert_exporter": "python",
   "pygments_lexer": "ipython3",
   "version": "3.10.0"
  }
 },
 "nbformat": 4,
 "nbformat_minor": 5
}

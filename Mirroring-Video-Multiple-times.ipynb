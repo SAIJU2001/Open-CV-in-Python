{
 "cells": [
  {
   "cell_type": "code",
   "execution_count": 32,
   "id": "225908ca-3d74-41e6-8741-602744f6aa02",
   "metadata": {},
   "outputs": [],
   "source": [
    "import numpy as np"
   ]
  },
  {
   "cell_type": "code",
   "execution_count": 33,
   "id": "dd8f74c1-b1c3-498a-b91c-342b33326974",
   "metadata": {},
   "outputs": [],
   "source": [
    "import cv2"
   ]
  },
  {
   "cell_type": "markdown",
   "id": "9715d374-638b-4777-8fd7-80fa08c132a6",
   "metadata": {},
   "source": [
    "--to capture the video from webcam--"
   ]
  },
  {
   "cell_type": "code",
   "execution_count": 34,
   "id": "687f28a6-5d48-4750-8843-92602d4a3b3f",
   "metadata": {},
   "outputs": [],
   "source": [
    "cap = cv2.VideoCapture(0)"
   ]
  },
  {
   "cell_type": "markdown",
   "id": "3ddc7d6e-460f-40e0-9dd5-02d8e740dd81",
   "metadata": {},
   "source": [
    "--while loop continiously run and keep displaying the video--"
   ]
  },
  {
   "cell_type": "code",
   "execution_count": 35,
   "id": "020fe0dc-fba5-4046-ac6d-c215513596b1",
   "metadata": {},
   "outputs": [],
   "source": [
    "while True :\n",
    "    ret, frame = cap.read()\n",
    "    image = np.zeros( frame.shape, np.uint8)\n",
    "    smaller_frame = cv2.resize( frame, (0,0), fx=0.5, fy=0.5)\n",
    "\n",
    "    #getting the height and width value\n",
    "    #cap have 17 different properties 3 for the width and 4 for the height\n",
    "    width = int(cap.get(3))\n",
    "    height = int(cap.get(4))\n",
    "    \n",
    "    #here the colon position defies the position in the display\n",
    "    image[ :height//2 , :width//2] = smaller_frame   #top left\n",
    "    image[ height//2: , :width//2] = smaller_frame   #bottom left\n",
    "    image[ :height//2 , width//2:] = smaller_frame   #top right\n",
    "    image[ height//2: , width//2:] = smaller_frame   #bottom right\n",
    "\n",
    "    #display the video\n",
    "    cv2.imshow('Frame',image)\n",
    "    if cv2.waitKey(1) == ord('q') :\n",
    "        break    "
   ]
  },
  {
   "cell_type": "markdown",
   "id": "4c301b67-796d-4ad9-8d44-22e3acdbd757",
   "metadata": {},
   "source": [
    "--release the camera now the camera able to do another work--"
   ]
  },
  {
   "cell_type": "code",
   "execution_count": 36,
   "id": "64f0d103-dfc4-4f69-9c3f-fc921f94ca97",
   "metadata": {},
   "outputs": [],
   "source": [
    "cap.release()"
   ]
  },
  {
   "cell_type": "code",
   "execution_count": 37,
   "id": "28dfe8ad-4d22-4b21-b976-265af890f0da",
   "metadata": {},
   "outputs": [],
   "source": [
    "cv2.destroyAllWindows()"
   ]
  },
  {
   "cell_type": "code",
   "execution_count": null,
   "id": "78d34b49-7a0c-4273-91c6-e1abe40cb664",
   "metadata": {},
   "outputs": [],
   "source": []
  }
 ],
 "metadata": {
  "kernelspec": {
   "display_name": "Python 3 (ipykernel)",
   "language": "python",
   "name": "python3"
  },
  "language_info": {
   "codemirror_mode": {
    "name": "ipython",
    "version": 3
   },
   "file_extension": ".py",
   "mimetype": "text/x-python",
   "name": "python",
   "nbconvert_exporter": "python",
   "pygments_lexer": "ipython3",
   "version": "3.10.0"
  }
 },
 "nbformat": 4,
 "nbformat_minor": 5
}

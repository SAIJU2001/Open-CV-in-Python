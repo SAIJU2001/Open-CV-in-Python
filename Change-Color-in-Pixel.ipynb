{
 "cells": [
  {
   "cell_type": "code",
   "execution_count": 16,
   "id": "46524fe9-0d34-4322-90fe-383c2aaadcd1",
   "metadata": {},
   "outputs": [],
   "source": [
    "#import open cv library\n",
    "import cv2"
   ]
  },
  {
   "cell_type": "code",
   "execution_count": 17,
   "id": "9c881cdf-c81a-4170-9157-d318bb667ab4",
   "metadata": {},
   "outputs": [],
   "source": [
    "#load the image\n",
    "img = cv2.imread( 'code.jpeg', 1)"
   ]
  },
  {
   "cell_type": "code",
   "execution_count": 18,
   "id": "4d707304-949c-459e-882e-4138d52a5c98",
   "metadata": {},
   "outputs": [],
   "source": [
    "#import random library\n",
    "import random"
   ]
  },
  {
   "cell_type": "code",
   "execution_count": 19,
   "id": "61c4f3d4-453b-4de7-b266-c0a982b25140",
   "metadata": {},
   "outputs": [],
   "source": [
    "#nested loop that iterates over the pixels of an image represented\n",
    "\n",
    "#iterate the row\n",
    "for i in range(100) :\n",
    "\n",
    "    #iterate the column\n",
    "    for j in range(img.shape[1]) :\n",
    "\n",
    "        #in those row & col put random BGR values to get color change \n",
    "        img[i][j] = [random.randint(0, 255),random.randint(0, 255),random.randint(0, 255)]"
   ]
  },
  {
   "cell_type": "code",
   "execution_count": 20,
   "id": "4121b190-9a65-4247-8222-1a8cd18cf07b",
   "metadata": {},
   "outputs": [],
   "source": [
    "#display the image\n",
    "cv2.imshow('Image', img)"
   ]
  },
  {
   "cell_type": "code",
   "execution_count": 21,
   "id": "fd26451b-2437-444a-ba7d-aae118f9da95",
   "metadata": {},
   "outputs": [
    {
     "data": {
      "text/plain": [
       "-1"
      ]
     },
     "execution_count": 21,
     "metadata": {},
     "output_type": "execute_result"
    }
   ],
   "source": [
    "cv2.waitKey(0)"
   ]
  },
  {
   "cell_type": "code",
   "execution_count": 22,
   "id": "2cb9bcb5-c4a8-4378-bd42-e7e48e993213",
   "metadata": {},
   "outputs": [],
   "source": [
    "cv2.destroyAllWindows()"
   ]
  },
  {
   "cell_type": "code",
   "execution_count": null,
   "id": "8a855186-506f-433b-aafd-37df03aa2cae",
   "metadata": {},
   "outputs": [],
   "source": []
  }
 ],
 "metadata": {
  "kernelspec": {
   "display_name": "Python 3 (ipykernel)",
   "language": "python",
   "name": "python3"
  },
  "language_info": {
   "codemirror_mode": {
    "name": "ipython",
    "version": 3
   },
   "file_extension": ".py",
   "mimetype": "text/x-python",
   "name": "python",
   "nbconvert_exporter": "python",
   "pygments_lexer": "ipython3",
   "version": "3.10.0"
  }
 },
 "nbformat": 4,
 "nbformat_minor": 5
}

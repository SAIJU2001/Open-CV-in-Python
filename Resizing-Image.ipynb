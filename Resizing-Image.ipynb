{
 "cells": [
  {
   "cell_type": "code",
   "execution_count": 19,
   "id": "6439e57f-87d9-49ad-90f5-145888467229",
   "metadata": {},
   "outputs": [],
   "source": [
    "import cv2"
   ]
  },
  {
   "cell_type": "markdown",
   "id": "e9e3f169-c3a1-4725-b288-228a5984c035",
   "metadata": {},
   "source": [
    "-- to load the image or read the image--"
   ]
  },
  {
   "cell_type": "code",
   "execution_count": 20,
   "id": "f76fe680-20dc-42f9-8ad2-58be7e6df211",
   "metadata": {},
   "outputs": [],
   "source": [
    "img = cv2.imread('code.jpeg',-1)"
   ]
  },
  {
   "cell_type": "markdown",
   "id": "f9620c2d-5c6b-4905-801c-6f2c01095c40",
   "metadata": {},
   "source": [
    "-- to resize the image --"
   ]
  },
  {
   "cell_type": "code",
   "execution_count": 21,
   "id": "1dbec19c-f4ec-4e10-bbea-ce51b12ed365",
   "metadata": {},
   "outputs": [],
   "source": [
    "img = cv2.resize( img, (0,0), fx=3, fy=3 )"
   ]
  },
  {
   "cell_type": "markdown",
   "id": "05c5794e-0f29-454e-9da8-903a962c6a29",
   "metadata": {},
   "source": [
    "-- to display the image --"
   ]
  },
  {
   "cell_type": "code",
   "execution_count": 22,
   "id": "2eccd47a-ff4b-4853-a2ca-a1e2f36af669",
   "metadata": {},
   "outputs": [],
   "source": [
    "cv2.imshow('Image',img)"
   ]
  },
  {
   "cell_type": "code",
   "execution_count": 23,
   "id": "4eceed46-d068-49bd-94ea-7b9ac518c1be",
   "metadata": {},
   "outputs": [
    {
     "data": {
      "text/plain": [
       "-1"
      ]
     },
     "execution_count": 23,
     "metadata": {},
     "output_type": "execute_result"
    }
   ],
   "source": [
    "cv2.waitKey(0)"
   ]
  },
  {
   "cell_type": "code",
   "execution_count": 24,
   "id": "9f93c64f-ee16-4cbb-a56f-c12f68d8d5e8",
   "metadata": {},
   "outputs": [],
   "source": [
    "cv2.destroyAllWindows()"
   ]
  },
  {
   "cell_type": "code",
   "execution_count": null,
   "id": "d66b074d-2cf4-4aee-8931-73ff6ea2463e",
   "metadata": {},
   "outputs": [],
   "source": []
  }
 ],
 "metadata": {
  "kernelspec": {
   "display_name": "Python 3 (ipykernel)",
   "language": "python",
   "name": "python3"
  },
  "language_info": {
   "codemirror_mode": {
    "name": "ipython",
    "version": 3
   },
   "file_extension": ".py",
   "mimetype": "text/x-python",
   "name": "python",
   "nbconvert_exporter": "python",
   "pygments_lexer": "ipython3",
   "version": "3.10.0"
  }
 },
 "nbformat": 4,
 "nbformat_minor": 5
}
